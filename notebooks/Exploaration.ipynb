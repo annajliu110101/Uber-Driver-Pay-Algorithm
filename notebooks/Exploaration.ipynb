{
  "nbformat": 4,
  "nbformat_minor": 0,
  "metadata": {
    "colab": {
      "provenance": [],
      "include_colab_link": true
    },
    "kernelspec": {
      "name": "python3",
      "display_name": "Python 3"
    },
    "language_info": {
      "name": "python"
    }
  },
  "cells": [
    {
      "cell_type": "markdown",
      "metadata": {
        "id": "view-in-github",
        "colab_type": "text"
      },
      "source": [
        "<a href=\"https://colab.research.google.com/github/annajliu110101/Uber-Driver-Pay-Algorithm/blob/main/notebooks/Exploaration.ipynb\" target=\"_parent\"><img src=\"https://colab.research.google.com/assets/colab-badge.svg\" alt=\"Open In Colab\"/></a>"
      ]
    },
    {
      "cell_type": "code",
      "source": [
        "!git clone https://github.com/annajliu110101/Uber-Driver-Pay-Algorithm.git\n",
        "!cd /content/Uber-Driver-Pay-Algorithm/"
      ],
      "metadata": {
        "colab": {
          "base_uri": "https://localhost:8080/"
        },
        "id": "tXQXpUJYaLID",
        "outputId": "6c5119b4-307b-4a6b-ae54-3b24d5a0f726"
      },
      "execution_count": 1,
      "outputs": [
        {
          "output_type": "stream",
          "name": "stdout",
          "text": [
            "Cloning into 'Uber-Driver-Pay-Algorithm'...\n",
            "remote: Enumerating objects: 75, done.\u001b[K\n",
            "remote: Counting objects: 100% (75/75), done.\u001b[K\n",
            "remote: Compressing objects: 100% (62/62), done.\u001b[K\n",
            "remote: Total 75 (delta 7), reused 64 (delta 5), pack-reused 0 (from 0)\u001b[K\n",
            "Receiving objects: 100% (75/75), 12.43 KiB | 3.11 MiB/s, done.\n",
            "Resolving deltas: 100% (7/7), done.\n",
            "Filtering content: 100% (22/22), 3.45 GiB | 48.05 MiB/s, done.\n"
          ]
        }
      ]
    },
    {
      "cell_type": "code",
      "source": [
        "!pip install meteostat\n",
        "!pip install pyarrow\n",
        "!pip install polars"
      ],
      "metadata": {
        "colab": {
          "base_uri": "https://localhost:8080/"
        },
        "id": "T9zvc10lduSV",
        "outputId": "d7385a20-1727-4ac8-bc34-901f4e19e1d1"
      },
      "execution_count": 2,
      "outputs": [
        {
          "output_type": "stream",
          "name": "stdout",
          "text": [
            "Collecting meteostat\n",
            "  Downloading meteostat-1.7.4-py3-none-any.whl.metadata (4.6 kB)\n",
            "Requirement already satisfied: pandas>=2 in /usr/local/lib/python3.11/dist-packages (from meteostat) (2.2.2)\n",
            "Requirement already satisfied: pytz in /usr/local/lib/python3.11/dist-packages (from meteostat) (2025.2)\n",
            "Requirement already satisfied: numpy in /usr/local/lib/python3.11/dist-packages (from meteostat) (2.0.2)\n",
            "Requirement already satisfied: python-dateutil>=2.8.2 in /usr/local/lib/python3.11/dist-packages (from pandas>=2->meteostat) (2.9.0.post0)\n",
            "Requirement already satisfied: tzdata>=2022.7 in /usr/local/lib/python3.11/dist-packages (from pandas>=2->meteostat) (2025.2)\n",
            "Requirement already satisfied: six>=1.5 in /usr/local/lib/python3.11/dist-packages (from python-dateutil>=2.8.2->pandas>=2->meteostat) (1.17.0)\n",
            "Downloading meteostat-1.7.4-py3-none-any.whl (33 kB)\n",
            "Installing collected packages: meteostat\n",
            "Successfully installed meteostat-1.7.4\n",
            "Requirement already satisfied: pyarrow in /usr/local/lib/python3.11/dist-packages (18.1.0)\n",
            "Requirement already satisfied: polars in /usr/local/lib/python3.11/dist-packages (1.25.2)\n"
          ]
        }
      ]
    },
    {
      "cell_type": "code",
      "execution_count": 3,
      "metadata": {
        "id": "hr-aRRHz6fK_",
        "colab": {
          "base_uri": "https://localhost:8080/",
          "height": 35
        },
        "outputId": "e80fd226-063d-4620-f9a1-3fa0eda869e4"
      },
      "outputs": [
        {
          "output_type": "execute_result",
          "data": {
            "text/plain": [
              "'hello'"
            ],
            "application/vnd.google.colaboratory.intrinsic+json": {
              "type": "string"
            }
          },
          "metadata": {},
          "execution_count": 3
        }
      ],
      "source": [
        "# Uber Fare Prediction – Milestone 2 Exploration\n",
        "import pandas as pd\n",
        "import numpy as np\n",
        "\n",
        "from matplotlib import table\n",
        "import matplotlib.pyplot as plt\n",
        "\n",
        "\n",
        "from datetime import datetime\n",
        "from meteostat import Stations, Daily, Point, Hourly\n",
        "\n",
        "from pathlib import Path\n",
        "\n",
        "import pyarrow.dataset as ds\n",
        "import pyarrow as pa\n",
        "from pyarrow.dataset import Dataset, Scanner\n",
        "import pyarrow.parquet as pq\n",
        "\n",
        "import polars as pl\n",
        "\n",
        "from geopy.geocoders import Nominatim\n",
        "\n",
        "\n",
        "\n",
        "\"hello\""
      ]
    },
    {
      "cell_type": "code",
      "source": [
        "dataset = ds.dataset('/content/Uber-Driver-Pay-Algorithm/data/uber_nyc_forhire_2025/fhvhv_tripdata_2025-01.parquet')\n",
        "scanner = dataset.scanner()"
      ],
      "metadata": {
        "id": "xFMbvkZmeyZY"
      },
      "execution_count": 5,
      "outputs": []
    }
  ]
}