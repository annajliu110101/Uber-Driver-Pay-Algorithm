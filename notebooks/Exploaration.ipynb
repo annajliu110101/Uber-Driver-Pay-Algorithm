{
  "nbformat": 4,
  "nbformat_minor": 0,
  "metadata": {
    "colab": {
      "provenance": [],
      "include_colab_link": true
    },
    "kernelspec": {
      "name": "python3",
      "display_name": "Python 3"
    },
    "language_info": {
      "name": "python"
    }
  },
  "cells": [
    {
      "cell_type": "markdown",
      "metadata": {
        "id": "view-in-github",
        "colab_type": "text"
      },
      "source": [
        "<a href=\"https://colab.research.google.com/github/annajliu110101/Uber-Driver-Pay-Algorithm/blob/main/notebooks/Exploaration.ipynb\" target=\"_parent\"><img src=\"https://colab.research.google.com/assets/colab-badge.svg\" alt=\"Open In Colab\"/></a>"
      ]
    },
    {
      "cell_type": "code",
      "source": [
        "!git clone https://github.com/annajliu110101/Uber-Driver-Pay-Algorithm.git\n",
        "!cd /content/Uber-Driver-Pay-Algorithm/"
      ],
      "metadata": {
        "colab": {
          "base_uri": "https://localhost:8080/"
        },
        "id": "tXQXpUJYaLID",
        "outputId": "6c5119b4-307b-4a6b-ae54-3b24d5a0f726"
      },
      "execution_count": 1,
      "outputs": [
        {
          "output_type": "stream",
          "name": "stdout",
          "text": [
            "Cloning into 'Uber-Driver-Pay-Algorithm'...\n",
            "remote: Enumerating objects: 75, done.\u001b[K\n",
            "remote: Counting objects: 100% (75/75), done.\u001b[K\n",
            "remote: Compressing objects: 100% (62/62), done.\u001b[K\n",
            "remote: Total 75 (delta 7), reused 64 (delta 5), pack-reused 0 (from 0)\u001b[K\n",
            "Receiving objects: 100% (75/75), 12.43 KiB | 3.11 MiB/s, done.\n",
            "Resolving deltas: 100% (7/7), done.\n",
            "Filtering content: 100% (22/22), 3.45 GiB | 48.05 MiB/s, done.\n"
          ]
        }
      ]
    },
    {
      "cell_type": "code",
      "execution_count": null,
      "metadata": {
        "id": "hr-aRRHz6fK_"
      },
      "outputs": [],
      "source": [
        "# Uber Fare Prediction – Milestone 2 Exploration\n",
        "\n",
        "import pandas as pd\n",
        "import numpy as np\n",
        "import matplotlib.pyplot as plt\n",
        "import seaborn as sns\n",
        "\"hello\""
      ]
    }
  ]
}